{
 "cells": [
  {
   "cell_type": "markdown",
   "id": "6b7bed8b",
   "metadata": {},
   "source": [
    "# Data Preparation and Cleansing\n",
    "In the next section we will build a function to prepare and clean our dataset to be ready to be used for building our model to predict the price of bookings in seattle"
   ]
  },
  {
   "cell_type": "code",
   "execution_count": null,
   "id": "dfbe5b05",
   "metadata": {},
   "outputs": [],
   "source": [
    "import pandas as pd\n",
    "from sklearn.ensemble import RandomForestRegressor\n",
    "from sklearn.model_selection import GridSearchCV\n",
    "from sklearn.linear_model import LinearRegression\n",
    "from sklearn.model_selection import train_test_split\n",
    "from sklearn.metrics import r2_score, mean_squared_error"
   ]
  },
  {
   "cell_type": "code",
   "execution_count": 7,
   "id": "8b1393f0",
   "metadata": {},
   "outputs": [
    {
     "name": "stderr",
     "output_type": "stream",
     "text": [
      "<ipython-input-7-b0de31968626>:22: FutureWarning: The default value of regex will change from True to False in a future version.\n",
      "  df_1[\"price\"] = df_1[\"price\"].str.replace('[$,,,]',\"\").astype(float)\n"
     ]
    }
   ],
   "source": [
    "############## Model1 ##############\n",
    "\n",
    "def clean_data(df_1):\n",
    "    '''\n",
    "    INPUT\n",
    "    df - pandas dataframe \n",
    "    \n",
    "    OUTPUT\n",
    "    X - A matrix holding all of the variables you want to consider when predicting the response\n",
    "    y - the corresponding response vector\n",
    "    \n",
    "    This function cleans df using the following steps to produce X and y:\n",
    "    1. Drop all the rows with no salaries\n",
    "    2. Create X as all the columns that are not the Salary column\n",
    "    3. Create y as the Salary column\n",
    "    4. Drop the Salary, Respondent, and the ExpectedSalary columns from X\n",
    "    5. For each numeric variable in X, fill the column with the mean value of the column.\n",
    "    6. Create dummy columns for all the categorical variables in X, drop the original columns\n",
    "    '''\n",
    "    # Convert Price into numerical values\n",
    "    \n",
    "    df_1[\"price\"] = df_1[\"price\"].str.replace('[$,,,]',\"\").astype(float)\n",
    "\n",
    "    # Assign the price column to y\n",
    "    y = df_1['price']\n",
    "    \n",
    "    #Drop the 100% null and non relevant columns\n",
    "    df_1 = df_1.drop(['monthly_price', 'security_deposit', 'license', 'square_feet', 'reviews_per_month', 'host_id', 'id','scrape_id'], axis=1)\n",
    "    \n",
    "    # Fill numeric columns with the mean\n",
    "    num_vars = df_1.select_dtypes(include=['float', 'int']).columns\n",
    "    for col in num_vars:\n",
    "        df_1[col].fillna((df_1[col].mean()), inplace=True)\n",
    " \n",
    "    \n",
    "    # Dummy the categorical variables\n",
    "    cat_vars = df_1.select_dtypes(include=['object']).copy().columns\n",
    "    for var in  cat_vars:\n",
    "        # for each cat add dummy var, drop original column\n",
    "        df_1 = pd.concat([df_1.drop(var, axis=1), pd.get_dummies(df_1[var], prefix=var, prefix_sep='_', drop_first=True)], axis=1)\n",
    "        X = df_1.drop('price', axis=1)\n",
    "\n",
    "    return X, y\n",
    "    \n",
    "#Use the function to create X and y\n",
    "df_1=pd.read_csv('listings.csv', thousands=',')\n",
    "X, y = clean_data(df_1) "
   ]
  },
  {
   "cell_type": "markdown",
   "id": "5822bbd7",
   "metadata": {},
   "source": [
    "# Predictive Models\n",
    "In the next section we will build 4 models to better predict the price of bookings in seattle, we will be using mainly two techniques over the models\n",
    "1. Model 1-3: Linear Regression with different preparation & cleansing techniques\n",
    "2. Model 4: Random Forest Regressor "
   ]
  },
  {
   "cell_type": "code",
   "execution_count": 8,
   "id": "f54cfde6",
   "metadata": {},
   "outputs": [
    {
     "name": "stdout",
     "output_type": "stream",
     "text": [
      "0.329931939780963\n"
     ]
    }
   ],
   "source": [
    "#For Model 1 , Split the dataset to train and test and use linear model\n",
    "\n",
    "X_train, X_test, y_train, y_test = train_test_split(X, y, test_size = .30, random_state=42)\n",
    "\n",
    "#Instantiate\n",
    "lm_model = LinearRegression(normalize=True) \n",
    "\n",
    "#Fit\n",
    "lm_model.fit(X_train, y_train)\n",
    "\n",
    "#Predict\n",
    "y_test_preds = lm_model.predict(X_test)\n",
    "\n",
    "score=(r2_score(y_test, y_test_preds))\n",
    "\n",
    "print(score)"
   ]
  },
  {
   "cell_type": "code",
   "execution_count": 10,
   "id": "371146fc",
   "metadata": {},
   "outputs": [
    {
     "name": "stdout",
     "output_type": "stream",
     "text": [
      "0.49992556417644574\n"
     ]
    },
    {
     "name": "stderr",
     "output_type": "stream",
     "text": [
      "<ipython-input-10-e6120c290a70>:4: FutureWarning: The default value of regex will change from True to False in a future version.\n",
      "  df_1[\"price\"] = df_1[\"price\"].str.replace('[$,,,]',\"\").astype(float)\n"
     ]
    }
   ],
   "source": [
    "############## Model2 ##############\n",
    "\n",
    "df_1=pd.read_csv('listings.csv', thousands=',')\n",
    "\n",
    "df_1[\"price\"] = df_1[\"price\"].str.replace('[$,,,]',\"\").astype(float)\n",
    "\n",
    "num_vars = df_1.select_dtypes(include=['float', 'int']).columns\n",
    "\n",
    "for col in num_vars:\n",
    "    df_1[col].fillna((df_1[col].mean()), inplace=True)\n",
    "    \n",
    "X = df_1[['accommodates', 'bathrooms', 'bedrooms', 'beds', 'guests_included']]\n",
    "y = df_1['price']\n",
    "\n",
    "X_train, X_test, y_train, y_test = train_test_split(X, y, test_size = .30, random_state=42)\n",
    "\n",
    "\n",
    "#Instantiate\n",
    "lm_model = LinearRegression(normalize=True) \n",
    "\n",
    "#Fit - why does this break?\n",
    "lm_model.fit(X_train, y_train) \n",
    "\n",
    "y_test_preds = lm_model.predict(X_test)\n",
    "\n",
    "score= r2_score(y_test, y_test_preds)\n",
    "print(score)"
   ]
  },
  {
   "cell_type": "code",
   "execution_count": 25,
   "id": "cf0048da",
   "metadata": {},
   "outputs": [
    {
     "name": "stderr",
     "output_type": "stream",
     "text": [
      "<ipython-input-25-a08b5a8ec8cb>:5: FutureWarning: The default value of regex will change from True to False in a future version.\n",
      "  df_1[\"price\"] = df_1[\"price\"].str.replace('[$,,,]',\"\").astype(float)\n"
     ]
    }
   ],
   "source": [
    "############## Model3 ##############\n",
    "\n",
    "df_1=pd.read_csv('listings.csv', thousands=',')\n",
    "\n",
    "df_1[\"price\"] = df_1[\"price\"].str.replace('[$,,,]',\"\").astype(float)\n",
    "\n",
    "num_vars = df_1.select_dtypes(include=['float', 'int']).columns\n",
    "\n",
    "for col in num_vars:\n",
    "    df_1[col].fillna((df_1[col].mean()), inplace=True)\n",
    "\n",
    "df_num = df_1.select_dtypes(include=['float', 'int'])\n",
    "\n",
    "#Choose certain categrical columns relevant to the analysis\n",
    "cat = df_1.select_dtypes(include=['object']).columns\n",
    "cat_vars = ['neighbourhood_group_cleansed', 'cancellation_policy', 'instant_bookable', 'host_is_superhost']\n",
    "df_cat = df_1.drop(columns=[cols for cols in df_1 if cols not in cat_vars])\n",
    "\n",
    "# Create new dataset with the numerical columsn and the chosen catoegorical columns and drop some other columns not relevant\n",
    "df_pre = pd.concat([df_num, df_cat], axis=1)\n",
    "df_pre.drop('license', axis=1, inplace=True)\n",
    "df_pre.drop('longitude', axis=1, inplace=True)\n",
    "df_pre.drop('latitude', axis=1, inplace=True)\n",
    "\n",
    "cat_vars = df_pre.select_dtypes(include=['object']).copy().columns\n",
    "for var in  cat_vars:\n",
    "        # for each cat add dummy var, drop original column\n",
    "    df_pre = pd.concat([df_pre.drop(var, axis=1), pd.get_dummies(df_pre[var], prefix=var, prefix_sep='_', drop_first=True)], axis=1)\n",
    "    \n",
    "y = df_pre['price']\n",
    "X = df_pre.drop('price', axis=1)\n",
    "\n"
   ]
  },
  {
   "cell_type": "code",
   "execution_count": 21,
   "id": "bc85c840",
   "metadata": {},
   "outputs": [
    {
     "name": "stdout",
     "output_type": "stream",
     "text": [
      "0.5293230147773866\n"
     ]
    }
   ],
   "source": [
    "#Linear Regression\n",
    "X_train, X_test, y_train, y_test = train_test_split(X, y, test_size = .30, random_state=42)\n",
    "\n",
    "#Instantiate\n",
    "lm_model = LinearRegression(normalize=True) \n",
    "\n",
    "#Fit - why does this break?\n",
    "lm_model.fit(X_train, y_train) \n",
    "\n",
    "y_test_preds = lm_model.predict(X_test)\n",
    "\n",
    "score= r2_score(y_test, y_test_preds)\n",
    "print(score)"
   ]
  },
  {
   "cell_type": "code",
   "execution_count": 26,
   "id": "6a4a894f",
   "metadata": {},
   "outputs": [
    {
     "name": "stdout",
     "output_type": "stream",
     "text": [
      "{'bootstrap': True, 'max_depth': 10, 'max_features': 'log2', 'n_estimators': 150}\n"
     ]
    }
   ],
   "source": [
    "############## Model4 ##############\n",
    "\n",
    "from sklearn.ensemble import RandomForestRegressor\n",
    "from sklearn.model_selection import GridSearchCV\n",
    "\n",
    "df_1=pd.read_csv('listings.csv', thousands=',')\n",
    "\n",
    "X_train, X_test, y_train, y_test = train_test_split(X, y, test_size = .30, random_state=42)\n",
    "\n",
    "#We will use grid search and random forest to get the best hyper parameters than can give highest prediction accuracy\n",
    "tuned_parameters = {'bootstrap': [True], 'max_depth': [5, 10, 20, None], 'max_features': ['auto', 'log2'], 'n_estimators': [10, 50, 100, 150, 200]}\n",
    "\n",
    "rfr = RandomForestRegressor(random_state = 1)\n",
    "\n",
    "g_search = GridSearchCV(estimator = rfr, param_grid = tuned_parameters, cv = 3, n_jobs = 1, verbose = 0, return_train_score=True)\n",
    "\n",
    "#rf_model = RandomForestRegressor(n_estimators=150, \n",
    "#                               criterion='mse', random_state=7, n_jobs=-1)\n",
    "\n",
    "#rf_model.fit(X_train, y_train) #Fit\n",
    "g_search.fit(X_train, y_train);\n",
    "print(g_search.best_params_)\n"
   ]
  },
  {
   "cell_type": "code",
   "execution_count": 27,
   "id": "d48be553",
   "metadata": {},
   "outputs": [
    {
     "name": "stdout",
     "output_type": "stream",
     "text": [
      "R2 test score: 0.5713209120246411\n",
      "R2 train score: 0.7565394939188758\n"
     ]
    }
   ],
   "source": [
    "#We will now use the best generated params\n",
    "regressor = RandomForestRegressor(bootstrap = True, max_depth=10, max_features= 'log2', n_estimators= 150)\n",
    "regressor.fit(X_train, y_train)\n",
    "\n",
    "\n",
    "result_train = regressor.predict(X_train)\n",
    "result_test = regressor.predict(X_test)\n",
    "    \n",
    "test_score = r2_score(y_test, result_test)\n",
    "train_score= r2_score(y_train, result_train)\n",
    "\n",
    "print('R2 test score: '+str(test_score))\n",
    "print('R2 train score: '+str(train_score))"
   ]
  },
  {
   "cell_type": "markdown",
   "id": "5bff289f",
   "metadata": {},
   "source": [
    "# Conclusion\n",
    "Random forest Regressor is the model that provides highest accuracy accross the other used models to predict the price of bookings"
   ]
  },
  {
   "cell_type": "code",
   "execution_count": null,
   "id": "9e8cbf19",
   "metadata": {},
   "outputs": [],
   "source": []
  }
 ],
 "metadata": {
  "kernelspec": {
   "display_name": "Python 3",
   "language": "python",
   "name": "python3"
  },
  "language_info": {
   "codemirror_mode": {
    "name": "ipython",
    "version": 3
   },
   "file_extension": ".py",
   "mimetype": "text/x-python",
   "name": "python",
   "nbconvert_exporter": "python",
   "pygments_lexer": "ipython3",
   "version": "3.8.8"
  }
 },
 "nbformat": 4,
 "nbformat_minor": 5
}
