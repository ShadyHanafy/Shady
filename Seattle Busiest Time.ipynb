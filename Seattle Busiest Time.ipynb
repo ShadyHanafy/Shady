{
 "cells": [
  {
   "cell_type": "markdown",
   "id": "81a225ff",
   "metadata": {},
   "source": [
    "# Data Understanding\n",
    "In order to get a better understanding of the busiest times in seattle,  we will take a look at the dataset.\n",
    "\n",
    "## Access & Explore\n",
    "First, let's read and explore the data"
   ]
  },
  {
   "cell_type": "code",
   "execution_count": null,
   "id": "404ba590",
   "metadata": {},
   "outputs": [],
   "source": [
    "import pandas as pd\n",
    "import matplotlib.pyplot as plt"
   ]
  },
  {
   "cell_type": "code",
   "execution_count": 14,
   "id": "8255af75",
   "metadata": {},
   "outputs": [
    {
     "data": {
      "text/html": [
       "<div>\n",
       "<style scoped>\n",
       "    .dataframe tbody tr th:only-of-type {\n",
       "        vertical-align: middle;\n",
       "    }\n",
       "\n",
       "    .dataframe tbody tr th {\n",
       "        vertical-align: top;\n",
       "    }\n",
       "\n",
       "    .dataframe thead th {\n",
       "        text-align: right;\n",
       "    }\n",
       "</style>\n",
       "<table border=\"1\" class=\"dataframe\">\n",
       "  <thead>\n",
       "    <tr style=\"text-align: right;\">\n",
       "      <th></th>\n",
       "      <th>listing_id</th>\n",
       "      <th>date</th>\n",
       "      <th>available</th>\n",
       "      <th>price</th>\n",
       "    </tr>\n",
       "  </thead>\n",
       "  <tbody>\n",
       "    <tr>\n",
       "      <th>0</th>\n",
       "      <td>241032</td>\n",
       "      <td>2016-01-04</td>\n",
       "      <td>t</td>\n",
       "      <td>$85.00</td>\n",
       "    </tr>\n",
       "    <tr>\n",
       "      <th>1</th>\n",
       "      <td>241032</td>\n",
       "      <td>2016-01-05</td>\n",
       "      <td>t</td>\n",
       "      <td>$85.00</td>\n",
       "    </tr>\n",
       "    <tr>\n",
       "      <th>2</th>\n",
       "      <td>241032</td>\n",
       "      <td>2016-01-06</td>\n",
       "      <td>f</td>\n",
       "      <td>NaN</td>\n",
       "    </tr>\n",
       "    <tr>\n",
       "      <th>3</th>\n",
       "      <td>241032</td>\n",
       "      <td>2016-01-07</td>\n",
       "      <td>f</td>\n",
       "      <td>NaN</td>\n",
       "    </tr>\n",
       "    <tr>\n",
       "      <th>4</th>\n",
       "      <td>241032</td>\n",
       "      <td>2016-01-08</td>\n",
       "      <td>f</td>\n",
       "      <td>NaN</td>\n",
       "    </tr>\n",
       "  </tbody>\n",
       "</table>\n",
       "</div>"
      ],
      "text/plain": [
       "   listing_id        date available   price\n",
       "0      241032  2016-01-04         t  $85.00\n",
       "1      241032  2016-01-05         t  $85.00\n",
       "2      241032  2016-01-06         f     NaN\n",
       "3      241032  2016-01-07         f     NaN\n",
       "4      241032  2016-01-08         f     NaN"
      ]
     },
     "execution_count": 14,
     "metadata": {},
     "output_type": "execute_result"
    }
   ],
   "source": [
    "#Import Calendar dataset\n",
    "df_cal=pd.read_csv('calendar.csv', thousands=',')\n",
    "pd.set_option(\"display.max_columns\", None)\n",
    "df_cal.head()"
   ]
  },
  {
   "cell_type": "code",
   "execution_count": 15,
   "id": "5c0ef3f1",
   "metadata": {},
   "outputs": [
    {
     "data": {
      "text/plain": [
       "False    934542\n",
       "True     459028\n",
       "Name: price, dtype: int64"
      ]
     },
     "execution_count": 15,
     "metadata": {},
     "output_type": "execute_result"
    }
   ],
   "source": [
    "#Check if any empty records for the price\n",
    "df_cal['price'].isnull().value_counts()"
   ]
  },
  {
   "cell_type": "markdown",
   "id": "4a3325b1",
   "metadata": {},
   "source": [
    "# Data Preparation & Analysis\n",
    "Now we will prepare the data and make some convertions to prepare the data for visualization\n",
    "\n",
    "## Wrangle and Clean"
   ]
  },
  {
   "cell_type": "code",
   "execution_count": 16,
   "id": "8a921e80",
   "metadata": {},
   "outputs": [
    {
     "name": "stderr",
     "output_type": "stream",
     "text": [
      "<ipython-input-16-61781eef3286>:2: FutureWarning: The default value of regex will change from True to False in a future version.\n",
      "  df_cal[\"price\"] = df_cal[\"price\"].str.replace('[$,,,]',\"\").astype(float)\n"
     ]
    }
   ],
   "source": [
    "#Convert price to numerical value\n",
    "df_cal[\"price\"] = df_cal[\"price\"].str.replace('[$,,,]',\"\").astype(float)"
   ]
  },
  {
   "cell_type": "code",
   "execution_count": 17,
   "id": "4657c283",
   "metadata": {},
   "outputs": [],
   "source": [
    "#Impute the missing data of price columns with mean\n",
    "df_cal['price'].fillna((df_cal['price'].mean()), inplace=True)"
   ]
  },
  {
   "cell_type": "code",
   "execution_count": 18,
   "id": "fcdf3fe0",
   "metadata": {},
   "outputs": [
    {
     "data": {
      "text/html": [
       "<div>\n",
       "<style scoped>\n",
       "    .dataframe tbody tr th:only-of-type {\n",
       "        vertical-align: middle;\n",
       "    }\n",
       "\n",
       "    .dataframe tbody tr th {\n",
       "        vertical-align: top;\n",
       "    }\n",
       "\n",
       "    .dataframe thead th {\n",
       "        text-align: right;\n",
       "    }\n",
       "</style>\n",
       "<table border=\"1\" class=\"dataframe\">\n",
       "  <thead>\n",
       "    <tr style=\"text-align: right;\">\n",
       "      <th></th>\n",
       "      <th>listing_id</th>\n",
       "      <th>date</th>\n",
       "      <th>available</th>\n",
       "      <th>price</th>\n",
       "      <th>month</th>\n",
       "    </tr>\n",
       "  </thead>\n",
       "  <tbody>\n",
       "    <tr>\n",
       "      <th>0</th>\n",
       "      <td>241032</td>\n",
       "      <td>2016-01-04</td>\n",
       "      <td>t</td>\n",
       "      <td>85.000000</td>\n",
       "      <td>1</td>\n",
       "    </tr>\n",
       "    <tr>\n",
       "      <th>1</th>\n",
       "      <td>241032</td>\n",
       "      <td>2016-01-05</td>\n",
       "      <td>t</td>\n",
       "      <td>85.000000</td>\n",
       "      <td>1</td>\n",
       "    </tr>\n",
       "    <tr>\n",
       "      <th>2</th>\n",
       "      <td>241032</td>\n",
       "      <td>2016-01-06</td>\n",
       "      <td>f</td>\n",
       "      <td>137.944859</td>\n",
       "      <td>1</td>\n",
       "    </tr>\n",
       "    <tr>\n",
       "      <th>3</th>\n",
       "      <td>241032</td>\n",
       "      <td>2016-01-07</td>\n",
       "      <td>f</td>\n",
       "      <td>137.944859</td>\n",
       "      <td>1</td>\n",
       "    </tr>\n",
       "    <tr>\n",
       "      <th>4</th>\n",
       "      <td>241032</td>\n",
       "      <td>2016-01-08</td>\n",
       "      <td>f</td>\n",
       "      <td>137.944859</td>\n",
       "      <td>1</td>\n",
       "    </tr>\n",
       "  </tbody>\n",
       "</table>\n",
       "</div>"
      ],
      "text/plain": [
       "   listing_id        date available       price  month\n",
       "0      241032  2016-01-04         t   85.000000      1\n",
       "1      241032  2016-01-05         t   85.000000      1\n",
       "2      241032  2016-01-06         f  137.944859      1\n",
       "3      241032  2016-01-07         f  137.944859      1\n",
       "4      241032  2016-01-08         f  137.944859      1"
      ]
     },
     "execution_count": 18,
     "metadata": {},
     "output_type": "execute_result"
    }
   ],
   "source": [
    "#Create new feature represent the month of a year\n",
    "df_cal['month'] = pd.DatetimeIndex(df_cal['date']).month\n",
    "df_cal.head()"
   ]
  },
  {
   "cell_type": "markdown",
   "id": "4aab9606",
   "metadata": {},
   "source": [
    "## Data Visualization\n",
    "Now we will visualize our dataset to get the required answer for the main question that which time is the busiest in seattle all over the year and its reflection on price"
   ]
  },
  {
   "cell_type": "code",
   "execution_count": 19,
   "id": "1cef81f8",
   "metadata": {},
   "outputs": [
    {
     "data": {
      "text/plain": [
       "<AxesSubplot:title={'center':'BusyTime'}, xlabel='month'>"
      ]
     },
     "execution_count": 19,
     "metadata": {},
     "output_type": "execute_result"
    },
    {
     "data": {
      "image/png": "[encoded data removed]",
      "text/plain": [
       "<Figure size 432x288 with 1 Axes>"
      ]
     },
     "metadata": {
      "needs_background": "light"
     },
     "output_type": "display_data"
    }
   ],
   "source": [
    "#Plot the busiest seattle time of the year\n",
    "busytime=df_cal.groupby(['month']).price.mean()\n",
    "busytime.plot(kind = 'bar', title=\"BusyTime\")"
   ]
  },
  {
   "cell_type": "code",
   "execution_count": 12,
   "id": "a6c985c9",
   "metadata": {},
   "outputs": [
    {
     "data": {
      "image/png": "[encoded data removed]",
      "text/plain": [
       "<Figure size 432x288 with 1 Axes>"
      ]
     },
     "metadata": {
      "needs_background": "light"
     },
     "output_type": "display_data"
    }
   ],
   "source": [
    "#Plot the price range accross the year\n",
    "busytime_price=df_cal.groupby(['month']).mean()['price'].sort_values().dropna()\n",
    "busytime_price.plot(kind=\"bar\");\n",
    "plt.title(\"Price Trend over year\");"
   ]
  },
  {
   "cell_type": "markdown",
   "id": "5bd5687d",
   "metadata": {},
   "source": [
    "# Conclusion\n",
    "\n",
    "July, August and June are the busiest time of the year and this reflects proportionally in booking prices"
   ]
  },
  {
   "cell_type": "code",
   "execution_count": null,
   "id": "42801f53",
   "metadata": {},
   "outputs": [],
   "source": []
  }
 ],
 "metadata": {
  "kernelspec": {
   "display_name": "Python 3",
   "language": "python",
   "name": "python3"
  },
  "language_info": {
   "codemirror_mode": {
    "name": "ipython",
    "version": 3
   },
   "file_extension": ".py",
   "mimetype": "text/x-python",
   "name": "python",
   "nbconvert_exporter": "python",
   "pygments_lexer": "ipython3",
   "version": "3.8.8"
  }
 },
 "nbformat": 4,
 "nbformat_minor": 5
}
